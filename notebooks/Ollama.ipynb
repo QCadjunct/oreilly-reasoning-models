{
 "cells": [
  {
   "cell_type": "code",
   "execution_count": 5,
   "id": "685ee4d8",
   "metadata": {},
   "outputs": [
    {
     "name": "stdout",
     "output_type": "stream",
     "text": [
      "✅ Connected to Ollama at: http://127.0.0.1:11434\n",
      "🤖 Using model: deepseek-r1:14b\n",
      "⚠️  Warning: Could not verify models: Failed to connect to Ollama. Please check that Ollama is downloaded, running and accessible. https://ollama.com/download\n"
     ]
    }
   ],
   "source": [
    "import os\n",
    "import ollama\n",
    "from IPython.display import Markdown, display\n",
    "import json\n",
    "import time\n",
    "from dotenv import load_dotenv\n",
    "\n",
    "# Load environment variables\n",
    "load_dotenv()\n",
    "\n",
    "# Set up your Ollama configuration\n",
    "# You can either set it in .env file or directly here\n",
    "ollama_url = os.getenv('OLLAMA_URL')\n",
    "if not ollama_url:\n",
    "    ollama_url = input(\"Please enter your Ollama URL (e.g., http://localhost:11434): \")\n",
    "\n",
    "model_name = os.getenv('OLLAMA_MODEL', 'deepseek-r1:14b')\n",
    "\n",
    "# Create Ollama client (equivalent to anthropic.Anthropic())\n",
    "client = ollama.Client(host=ollama_url)\n",
    "\n",
    "print(f\"✅ Connected to Ollama at: {ollama_url}\")\n",
    "print(f\"🤖 Using model: {model_name}\")\n",
    "\n",
    "# Verify the model is available\n",
    "try:\n",
    "    models = client.list()\n",
    "    available_models = [m['name'] for m in models.get('models', [])]\n",
    "    if model_name in available_models:\n",
    "        print(f\"✅ {model_name} is available and ready!\")\n",
    "    else:\n",
    "        print(f\"❌ {model_name} not found. Available: {available_models[:3]}...\")\n",
    "except Exception as e:\n",
    "    print(f\"⚠️  Warning: Could not verify models: {e}\")"
   ]
  },
  {
   "cell_type": "code",
   "execution_count": null,
   "id": "6f873cc1",
   "metadata": {},
   "outputs": [],
   "source": []
  }
 ],
 "metadata": {
  "kernelspec": {
   "display_name": "oreilly-reasoning-models",
   "language": "python",
   "name": "python3"
  },
  "language_info": {
   "codemirror_mode": {
    "name": "ipython",
    "version": 3
   },
   "file_extension": ".py",
   "mimetype": "text/x-python",
   "name": "python",
   "nbconvert_exporter": "python",
   "pygments_lexer": "ipython3",
   "version": "3.13.2"
  }
 },
 "nbformat": 4,
 "nbformat_minor": 5
}
